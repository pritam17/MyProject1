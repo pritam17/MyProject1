{
  "nbformat": 4,
  "nbformat_minor": 0,
  "metadata": {
    "kernelspec": {
      "name": "python3",
      "display_name": "Python 3"
    },
    "language_info": {
      "codemirror_mode": {
        "name": "ipython",
        "version": 3
      },
      "file_extension": ".py",
      "mimetype": "text/x-python",
      "name": "python",
      "nbconvert_exporter": "python",
      "pygments_lexer": "ipython3",
      "version": "3.7.3"
    },
    "colab": {
      "name": "CNN_with_Tensorflow_2_0.ipynb",
      "provenance": [],
      "collapsed_sections": [],
      "machine_shape": "hm",
      "include_colab_link": true
    },
    "accelerator": "GPU"
  },
  "cells": [
    {
      "cell_type": "markdown",
      "metadata": {
        "id": "view-in-github",
        "colab_type": "text"
      },
      "source": [
        "<a href=\"https://colab.research.google.com/github/pritam17/MyProject1/blob/master/CNN_with_Tensorflow_2_0.ipynb\" target=\"_parent\"><img src=\"https://colab.research.google.com/assets/colab-badge.svg\" alt=\"Open In Colab\"/></a>"
      ]
    },
    {
      "cell_type": "code",
      "metadata": {
        "id": "u_gYPAQquwGB",
        "colab_type": "code",
        "outputId": "7deb39bf-6ae6-4168-f8d3-a116300ed5e1",
        "colab": {
          "base_uri": "https://localhost:8080/",
          "height": 34
        }
      },
      "source": [
        "%tensorflow_version 2.x"
      ],
      "execution_count": 1,
      "outputs": [
        {
          "output_type": "stream",
          "text": [
            "TensorFlow 2.x selected.\n"
          ],
          "name": "stdout"
        }
      ]
    },
    {
      "cell_type": "code",
      "metadata": {
        "id": "6OQHQTxMu7Xg",
        "colab_type": "code",
        "colab": {}
      },
      "source": [
        "import tensorflow as tf"
      ],
      "execution_count": 0,
      "outputs": []
    },
    {
      "cell_type": "code",
      "metadata": {
        "id": "yAfo_AAnvED-",
        "colab_type": "code",
        "outputId": "f1f0ce8a-40a9-4d0e-f1f6-5b7bbdb64eb3",
        "colab": {
          "base_uri": "https://localhost:8080/",
          "height": 34
        }
      },
      "source": [
        "tf.__version__"
      ],
      "execution_count": 3,
      "outputs": [
        {
          "output_type": "execute_result",
          "data": {
            "text/plain": [
              "'2.1.0-rc1'"
            ]
          },
          "metadata": {
            "tags": []
          },
          "execution_count": 3
        }
      ]
    },
    {
      "cell_type": "code",
      "metadata": {
        "id": "OTIPrbqreht0",
        "colab_type": "code",
        "outputId": "24aeff5e-48ac-4247-a887-73fe33e1fed6",
        "colab": {
          "base_uri": "https://localhost:8080/",
          "height": 188
        }
      },
      "source": [
        "!pip install python-mnist"
      ],
      "execution_count": 4,
      "outputs": [
        {
          "output_type": "stream",
          "text": [
            "Collecting python-mnist\n",
            "  Downloading https://files.pythonhosted.org/packages/05/9c/f1c1e4d011b01ac436bba0ac6715b3f988bb7f8fec6f21f89cf820aa33e1/python-mnist-0.6.tar.gz\n",
            "Building wheels for collected packages: python-mnist\n",
            "  Building wheel for python-mnist (setup.py) ... \u001b[?25l\u001b[?25hdone\n",
            "  Created wheel for python-mnist: filename=python_mnist-0.6-py2.py3-none-any.whl size=11662 sha256=49058a22298ac4a3888652403448ebe2078356be31bf77f19e279dbd731afd21\n",
            "  Stored in directory: /root/.cache/pip/wheels/28/29/36/408f83545a511c43d03ef997a1dc99b49ccd5f9f306ed92468\n",
            "Successfully built python-mnist\n",
            "Installing collected packages: python-mnist\n",
            "Successfully installed python-mnist-0.6\n"
          ],
          "name": "stdout"
        }
      ]
    },
    {
      "cell_type": "code",
      "metadata": {
        "id": "50uNM6wDehuD",
        "colab_type": "code",
        "colab": {}
      },
      "source": [
        "from mnist import MNIST\n",
        "import pandas as pd\n",
        "from sklearn.preprocessing import OneHotEncoder\n",
        "import matplotlib.pyplot as plt\n",
        "import numpy as np\n",
        "import warnings\n",
        "import tensorflow as tf\n",
        "warnings.filterwarnings('ignore')\n",
        "%matplotlib inline"
      ],
      "execution_count": 0,
      "outputs": []
    },
    {
      "cell_type": "code",
      "metadata": {
        "id": "48_iJC2qgDEq",
        "colab_type": "code",
        "outputId": "11fe51ee-9ff4-4355-ac36-7a8cd8b23c1c",
        "colab": {
          "base_uri": "https://localhost:8080/",
          "height": 118
        }
      },
      "source": [
        "#!wget 'https://www.dropbox.com/s/8smiyrivs3seqzn/mnist_data.zip' /mnist_data.zip\n",
        "!unzip '/content/mnist_data.zip' -d'/content/' "
      ],
      "execution_count": 9,
      "outputs": [
        {
          "output_type": "stream",
          "text": [
            "Archive:  /content/mnist_data.zip\n",
            "   creating: /content/mnist_data/\n",
            "  inflating: /content/mnist_data/t10k-images-idx3-ubyte  \n",
            "  inflating: /content/mnist_data/t10k-labels-idx1-ubyte  \n",
            "  inflating: /content/mnist_data/train-images-idx3-ubyte  \n",
            "  inflating: /content/mnist_data/train-labels-idx1-ubyte  \n"
          ],
          "name": "stdout"
        }
      ]
    },
    {
      "cell_type": "code",
      "metadata": {
        "id": "QD-GR2zyehuL",
        "colab_type": "code",
        "colab": {}
      },
      "source": [
        "mndata = MNIST('/content/mnist_data')\n",
        "images_train, labels_train = mndata.load_training()\n",
        "images_test,labels_test=mndata.load_testing()"
      ],
      "execution_count": 0,
      "outputs": []
    },
    {
      "cell_type": "code",
      "metadata": {
        "id": "HIRpzgsDieW5",
        "colab_type": "code",
        "outputId": "705bf14c-388b-4693-d60f-4295fb49d9e4",
        "colab": {
          "base_uri": "https://localhost:8080/",
          "height": 34
        }
      },
      "source": [
        "np.shape(images_train)"
      ],
      "execution_count": 12,
      "outputs": [
        {
          "output_type": "execute_result",
          "data": {
            "text/plain": [
              "(60000, 784)"
            ]
          },
          "metadata": {
            "tags": []
          },
          "execution_count": 12
        }
      ]
    },
    {
      "cell_type": "code",
      "metadata": {
        "id": "imC9UmniehuQ",
        "colab_type": "code",
        "colab": {}
      },
      "source": [
        "labels_train=np.array(labels_train).reshape(-1,1)\n",
        "labels_test=np.array(labels_test).reshape(-1,1)"
      ],
      "execution_count": 0,
      "outputs": []
    },
    {
      "cell_type": "code",
      "metadata": {
        "id": "x8Ezoz2jehuX",
        "colab_type": "code",
        "colab": {}
      },
      "source": [
        "onehot=OneHotEncoder()\n",
        "onehot.fit(labels_train)\n",
        "labels_train=onehot.transform(labels_train)\n",
        "labels_test=onehot.transform(labels_test)"
      ],
      "execution_count": 0,
      "outputs": []
    },
    {
      "cell_type": "code",
      "metadata": {
        "id": "ItxW1qyLnR19",
        "colab_type": "code",
        "outputId": "d074ab93-414a-48ae-d5b2-a864226984cd",
        "colab": {
          "base_uri": "https://localhost:8080/",
          "height": 50
        }
      },
      "source": [
        "labels_train"
      ],
      "execution_count": 15,
      "outputs": [
        {
          "output_type": "execute_result",
          "data": {
            "text/plain": [
              "<60000x10 sparse matrix of type '<class 'numpy.float64'>'\n",
              "\twith 60000 stored elements in Compressed Sparse Row format>"
            ]
          },
          "metadata": {
            "tags": []
          },
          "execution_count": 15
        }
      ]
    },
    {
      "cell_type": "code",
      "metadata": {
        "id": "kjYE7FKclaZs",
        "colab_type": "code",
        "colab": {}
      },
      "source": [
        "labels_train=labels_train.toarray()\n",
        "labels_test=labels_test.toarray()"
      ],
      "execution_count": 0,
      "outputs": []
    },
    {
      "cell_type": "code",
      "metadata": {
        "id": "GXKF_LDzqwx-",
        "colab_type": "code",
        "outputId": "664b2d35-2ea5-4622-9563-ec904ae98080",
        "colab": {
          "base_uri": "https://localhost:8080/",
          "height": 134
        }
      },
      "source": [
        "labels_train"
      ],
      "execution_count": 17,
      "outputs": [
        {
          "output_type": "execute_result",
          "data": {
            "text/plain": [
              "array([[0., 0., 0., ..., 0., 0., 0.],\n",
              "       [1., 0., 0., ..., 0., 0., 0.],\n",
              "       [0., 0., 0., ..., 0., 0., 0.],\n",
              "       ...,\n",
              "       [0., 0., 0., ..., 0., 0., 0.],\n",
              "       [0., 0., 0., ..., 0., 0., 0.],\n",
              "       [0., 0., 0., ..., 0., 1., 0.]])"
            ]
          },
          "metadata": {
            "tags": []
          },
          "execution_count": 17
        }
      ]
    },
    {
      "cell_type": "code",
      "metadata": {
        "id": "NHsFrwJ1qZyC",
        "colab_type": "code",
        "colab": {}
      },
      "source": [
        "images_train=np.array(images_train).reshape(60000,784)\n",
        "images_test=np.array(images_test).reshape(10000,784)\n",
        "images_train=images_train/255\n",
        "images_test=images_test/255"
      ],
      "execution_count": 0,
      "outputs": []
    },
    {
      "cell_type": "code",
      "metadata": {
        "id": "sn1pp7Ztehub",
        "colab_type": "code",
        "outputId": "cc208248-d5f6-441b-a739-e5b761640074",
        "colab": {
          "base_uri": "https://localhost:8080/",
          "height": 282
        }
      },
      "source": [
        "ind=10\n",
        "sample_image = images_test[ind] \n",
        "sample_image = np.array(sample_image, dtype='float')\n",
        "pixels = sample_image.reshape((28, 28))\n",
        "plt.imshow(pixels, cmap='gray')\n",
        "plt.show()\n",
        "print('real label:',np.argmax(labels_test[ind]))"
      ],
      "execution_count": 19,
      "outputs": [
        {
          "output_type": "display_data",
          "data": {
            "image/png": "[encoded data removed]",
            "text/plain": [
              "<Figure size 432x288 with 1 Axes>"
            ]
          },
          "metadata": {
            "tags": []
          }
        },
        {
          "output_type": "stream",
          "text": [
            "real label: 0\n"
          ],
          "name": "stdout"
        }
      ]
    },
    {
      "cell_type": "code",
      "metadata": {
        "id": "mJvHaRIcehug",
        "colab_type": "code",
        "colab": {}
      },
      "source": [
        "# def weight_variable(shape):\n",
        "#     initial = tf.random.truncated_normal(shape,stddev=0.1,mean=0.0)\n",
        "#     return tf.Variable(initial)\n",
        "\n",
        "# def bias_variable(shape):\n",
        "#     initial = tf.random.truncated_normal(shape,stddev=0.1,mean=0.0)\n",
        "#     return tf.Variable(initial)\n",
        "\n",
        "def conv2d(x, W):\n",
        "    return tf.nn.conv2d(x, W, strides=[1, 1, 1, 1], padding='SAME')\n",
        "\n",
        "def max_pool_2x2(x):\n",
        "    return tf.nn.max_pool(x, ksize=[1, 2, 2, 1],\n",
        "                        strides=[1, 2, 2, 1], padding='SAME')"
      ],
      "execution_count": 0,
      "outputs": []
    },
    {
      "cell_type": "code",
      "metadata": {
        "id": "nzxQxZTVehuk",
        "colab_type": "code",
        "colab": {}
      },
      "source": [
        "W_conv1 = tf.Variable(tf.random.truncated_normal([5, 5, 1, 32]))\n",
        "b_conv1 = tf.Variable(tf.random.truncated_normal([32]))\n",
        "\n",
        "\n",
        "W_conv2 = tf.Variable(tf.random.truncated_normal([5, 5, 32, 64]))\n",
        "b_conv2 = tf.Variable(tf.random.truncated_normal([64]))\n",
        "\n",
        "\n",
        "W_fc1 = tf.Variable(tf.random.truncated_normal([7*7*64, 1024]))\n",
        "b_fc1 = tf.Variable(tf.random.truncated_normal([1024]))\n",
        "\n",
        "\n",
        "keep_prob = tf.constant(0.0,'float32')\n",
        "\n",
        "\n",
        "W_fc2 =tf.Variable(tf.random.truncated_normal([1024, 200]))\n",
        "b_fc2 = tf.Variable(tf.random.truncated_normal([200]))\n",
        "\n",
        "\n",
        "W_fc3 = tf.Variable(tf.random.truncated_normal([200, 10]))\n",
        "b_fc3 = tf.Variable(tf.random.truncated_normal([10]))\n"
      ],
      "execution_count": 0,
      "outputs": []
    },
    {
      "cell_type": "code",
      "metadata": {
        "id": "eHM3_dqRehuo",
        "colab_type": "code",
        "colab": {}
      },
      "source": [
        "def model(x,keep_prob):\n",
        "    x_image=tf.cast(tf.reshape(x, [-1, 28, 28, 1]),'float32')\n",
        "        \n",
        "    h_conv1 = tf.nn.relu(conv2d(x_image, W_conv1) + b_conv1)\n",
        "    h_pool1 = max_pool_2x2(h_conv1)\n",
        "    \n",
        "    h_conv2 = tf.nn.relu(conv2d(h_pool1, W_conv2) + b_conv2)\n",
        "    h_pool2 = max_pool_2x2(h_conv2)\n",
        "    \n",
        "    h_pool2_flat = tf.reshape(h_pool2, [-1, 7*7*64])\n",
        "    \n",
        "    h_fc1 = tf.nn.relu(tf.matmul(h_pool2_flat, W_fc1) + b_fc1)\n",
        "    \n",
        "   \n",
        "    h_fc1_drop = tf.nn.dropout(h_fc1, keep_prob)\n",
        "    \n",
        "    \n",
        "    h_fc2= tf.nn.tanh(tf.matmul(h_fc1_drop, W_fc2) + b_fc2)\n",
        "    h_fc2_drop=tf.nn.dropout(h_fc2,keep_prob)\n",
        "    \n",
        "    y_conv_logits=tf.matmul(h_fc2_drop, W_fc3) + b_fc3\n",
        "    \n",
        "    return y_conv_logits\n",
        "    "
      ],
      "execution_count": 0,
      "outputs": []
    },
    {
      "cell_type": "code",
      "metadata": {
        "id": "smFuXP1qehus",
        "colab_type": "code",
        "colab": {}
      },
      "source": [
        "def cross_entropy(y_true, y_pred):\n",
        "    loss = tf.nn.softmax_cross_entropy_with_logits(labels=y_true, logits=y_pred)\n",
        "    return tf.reduce_mean(loss)\n",
        "\n",
        "def accuracy(y_true, y_pred):\n",
        "    y_true = tf.cast(tf.argmax(y_true, axis=1), dtype=tf.int32)\n",
        "    preds = tf.cast(tf.argmax(y_pred, axis=1), dtype=tf.int32)\n",
        "    preds = tf.equal(y_true, preds)\n",
        "    return tf.reduce_mean(tf.cast(preds, dtype=tf.float32))\n",
        "\n",
        "\n",
        "def grad(x, y):\n",
        "    with tf.GradientTape() as tape:\n",
        "        y_pred = model(x,keep_prob)\n",
        "        loss_val = cross_entropy(y, y_pred)\n",
        "    gradients=tape.gradient(loss_val, [W_conv1,b_conv1,W_conv2,b_conv2,W_fc1,b_fc1,W_fc2,b_fc2,W_fc3,b_fc3])\n",
        "    return(gradients)"
      ],
      "execution_count": 0,
      "outputs": []
    },
    {
      "cell_type": "code",
      "metadata": {
        "id": "NKRH9Qo4ehuw",
        "colab_type": "code",
        "colab": {}
      },
      "source": [
        "epochs=1000"
      ],
      "execution_count": 0,
      "outputs": []
    },
    {
      "cell_type": "code",
      "metadata": {
        "id": "a0CFI0Etehu3",
        "colab_type": "code",
        "outputId": "b19c573d-2f5f-479d-be40-b39d4acf86f8",
        "colab": {
          "base_uri": "https://localhost:8080/",
          "height": 1000
        }
      },
      "source": [
        "learning_rate=0.01\n",
        "for epoch in range(epochs):\n",
        "    #rand_int=np.random.choice(range(60000),10)\n",
        "    #x_train_batch=images_train[rand_int]\n",
        "    #y_train_batch=labels_train[rand_int]\n",
        "    for j in range(0,np.int(images_train.shape[0]/32),32):\n",
        "      y_train_batch=labels_train[j:j+32]\n",
        "      x_train_batch=images_train[j:j+32]\n",
        "    \n",
        "      dw_conv1,db_conv1,dw_conv2,db_conv2,dw_fc1,db_fc1,dw_fc2,db_fc2,dw_fc3,db_fc3=grad(x_train_batch,tf.cast(y_train_batch,'float32'))\n",
        "    \n",
        "      W_conv1.assign_sub(learning_rate*dw_conv1)\n",
        "      W_conv2.assign_sub(learning_rate*dw_conv2)\n",
        "      W_fc1.assign_sub(learning_rate*dw_fc1)\n",
        "      W_fc2.assign_sub(learning_rate*dw_fc2)\n",
        "      W_fc3.assign_sub(learning_rate*dw_fc3)\n",
        "    \n",
        "      b_conv1.assign_sub(learning_rate*db_conv1)\n",
        "      b_conv2.assign_sub(learning_rate*db_conv2)\n",
        "      b_fc1.assign_sub(learning_rate*db_fc1)\n",
        "      b_fc2.assign_sub(learning_rate*db_fc2)\n",
        "      b_fc3.assign_sub(learning_rate*db_fc3)\n",
        "    \n",
        "    if epoch%10==0:\n",
        "    \n",
        "        test_pred=model(images_test,tf.constant(0.0,'float32'))\n",
        "        acc_test=accuracy(labels_test,test_pred).numpy()\n",
        "        loss_test=cross_entropy(labels_test,test_pred).numpy()\n",
        "\n",
        "\n",
        "        train_pred=model(images_train[:10000],tf.constant(0.0,'float32'))\n",
        "        acc_train=accuracy(labels_train[:10000],train_pred).numpy()\n",
        "        loss_train=cross_entropy(labels_train[:10000],train_pred).numpy()\n",
        "        print('Test result:',acc_test,loss_test,' &&& Train result:',acc_train,loss_train)\n",
        "    \n",
        "#     if loss_train<3:\n",
        "#         learning_rate=20"
      ],
      "execution_count": 0,
      "outputs": [
        {
          "output_type": "stream",
          "text": [
            "Test result: 0.359 1.7771517  &&& Train result: 0.3667 1.7402035\n",
            "Test result: 0.3634 1.7559367  &&& Train result: 0.3716 1.7183566\n",
            "Test result: 0.3732 1.7380774  &&& Train result: 0.3813 1.6999838\n",
            "Test result: 0.3682 1.7228703  &&& Train result: 0.3868 1.6843168\n",
            "Test result: 0.377 1.7098051  &&& Train result: 0.3943 1.6708057\n",
            "Test result: 0.3799 1.6984977  &&& Train result: 0.3974 1.6590447\n",
            "Test result: 0.382 1.6886504  &&& Train result: 0.3996 1.6487256\n",
            "Test result: 0.3886 1.6800262  &&& Train result: 0.403 1.6396077\n",
            "Test result: 0.391 1.6724321  &&& Train result: 0.4045 1.6314986\n",
            "Test result: 0.3914 1.6657118  &&& Train result: 0.4049 1.6242446\n",
            "Test result: 0.3971 1.6597344  &&& Train result: 0.4108 1.6177186\n",
            "Test result: 0.3974 1.6543938  &&& Train result: 0.412 1.6118176\n",
            "Test result: 0.3988 1.6496004  &&& Train result: 0.4128 1.6064566\n",
            "Test result: 0.3991 1.6452817  &&& Train result: 0.4143 1.6015655\n",
            "Test result: 0.3995 1.641375  &&& Train result: 0.4144 1.5970848\n",
            "Test result: 0.3994 1.6378299  &&& Train result: 0.4155 1.592966\n",
            "Test result: 0.4003 1.6346023  &&& Train result: 0.4181 1.5891671\n",
            "Test result: 0.4007 1.6316555  &&& Train result: 0.4185 1.5856533\n",
            "Test result: 0.4008 1.6289582  &&& Train result: 0.4191 1.5823946\n",
            "Test result: 0.4022 1.6264832  &&& Train result: 0.4201 1.5793653\n",
            "Test result: 0.4026 1.6242076  &&& Train result: 0.4212 1.5765429\n",
            "Test result: 0.4031 1.6221119  &&& Train result: 0.4215 1.5739086\n",
            "Test result: 0.4034 1.620178  &&& Train result: 0.4217 1.5714457\n",
            "Test result: 0.4037 1.6183901  &&& Train result: 0.4216 1.5691389\n",
            "Test result: 0.4041 1.6167356  &&& Train result: 0.4219 1.5669754\n",
            "Test result: 0.4037 1.6152023  &&& Train result: 0.4218 1.5649438\n",
            "Test result: 0.4043 1.61378  &&& Train result: 0.4228 1.5630339\n",
            "Test result: 0.4056 1.6124588  &&& Train result: 0.4238 1.5612364\n",
            "Test result: 0.4064 1.6112305  &&& Train result: 0.4237 1.559543\n",
            "Test result: 0.4066 1.6100875  &&& Train result: 0.4256 1.5579462\n",
            "Test result: 0.4067 1.6090231  &&& Train result: 0.4262 1.5564393\n",
            "Test result: 0.4066 1.6080312  &&& Train result: 0.4264 1.555016\n",
            "Test result: 0.4071 1.607106  &&& Train result: 0.4268 1.5536705\n",
            "Test result: 0.4075 1.6062427  &&& Train result: 0.4243 1.5523982\n",
            "Test result: 0.4075 1.6054363  &&& Train result: 0.4245 1.5511935\n",
            "Test result: 0.4077 1.6046832  &&& Train result: 0.4246 1.5500526\n",
            "Test result: 0.4078 1.6039789  &&& Train result: 0.4246 1.548971\n",
            "Test result: 0.4075 1.6033202  &&& Train result: 0.4246 1.5479455\n",
            "Test result: 0.4072 1.6027036  &&& Train result: 0.4252 1.546972\n",
            "Test result: 0.4075 1.6021266  &&& Train result: 0.4255 1.5460478\n",
            "Test result: 0.4076 1.6015857  &&& Train result: 0.4257 1.5451692\n",
            "Test result: 0.4076 1.6010787  &&& Train result: 0.4259 1.5443339\n",
            "Test result: 0.408 1.6006035  &&& Train result: 0.4259 1.5435388\n",
            "Test result: 0.408 1.6001579  &&& Train result: 0.4255 1.5427824\n",
            "Test result: 0.4078 1.5997394  &&& Train result: 0.4257 1.5420614\n",
            "Test result: 0.4089 1.5993469  &&& Train result: 0.4263 1.5413742\n",
            "Test result: 0.4091 1.5989778  &&& Train result: 0.4264 1.5407184\n",
            "Test result: 0.4093 1.5986315  &&& Train result: 0.4264 1.5400928\n",
            "Test result: 0.4091 1.5983055  &&& Train result: 0.4258 1.5394951\n",
            "Test result: 0.4092 1.5979996  &&& Train result: 0.4265 1.5389242\n",
            "Test result: 0.4093 1.5977119  &&& Train result: 0.4264 1.5383781\n",
            "Test result: 0.4094 1.5974412  &&& Train result: 0.4265 1.5378556\n",
            "Test result: 0.4097 1.5971866  &&& Train result: 0.4268 1.5373554\n",
            "Test result: 0.4099 1.5969472  &&& Train result: 0.4267 1.5368763\n",
            "Test result: 0.4099 1.5967215  &&& Train result: 0.4267 1.5364172\n",
            "Test result: 0.4099 1.5965096  &&& Train result: 0.4268 1.535977\n",
            "Test result: 0.4088 1.59631  &&& Train result: 0.4263 1.5355546\n",
            "Test result: 0.4086 1.5961225  &&& Train result: 0.4264 1.5351493\n",
            "Test result: 0.4085 1.595946  &&& Train result: 0.4264 1.53476\n",
            "Test result: 0.4087 1.5957795  &&& Train result: 0.4265 1.5343859\n",
            "Test result: 0.409 1.5956235  &&& Train result: 0.4263 1.5340264\n",
            "Test result: 0.4091 1.5954765  &&& Train result: 0.4264 1.5336807\n",
            "Test result: 0.409 1.5953382  &&& Train result: 0.4267 1.5333476\n",
            "Test result: 0.4089 1.595209  &&& Train result: 0.4267 1.5330278\n",
            "Test result: 0.409 1.5950867  &&& Train result: 0.4267 1.5327191\n",
            "Test result: 0.4093 1.5949725  &&& Train result: 0.4266 1.5324222\n",
            "Test result: 0.4094 1.5948651  &&& Train result: 0.4268 1.532136\n",
            "Test result: 0.4092 1.5947646  &&& Train result: 0.427 1.5318601\n",
            "Test result: 0.4109 1.5946702  &&& Train result: 0.4265 1.5315938\n",
            "Test result: 0.4109 1.5945818  &&& Train result: 0.4266 1.5313369\n",
            "Test result: 0.4112 1.5944993  &&& Train result: 0.4267 1.5310891\n",
            "Test result: 0.4112 1.5944225  &&& Train result: 0.4267 1.53085\n",
            "Test result: 0.4112 1.5943508  &&& Train result: 0.4265 1.5306188\n",
            "Test result: 0.4112 1.5942836  &&& Train result: 0.4264 1.5303955\n",
            "Test result: 0.4113 1.5942214  &&& Train result: 0.4267 1.5301799\n",
            "Test result: 0.4113 1.5941637  &&& Train result: 0.4267 1.5299714\n",
            "Test result: 0.4112 1.5941095  &&& Train result: 0.427 1.5297695\n",
            "Test result: 0.4112 1.5940603  &&& Train result: 0.4271 1.5295746\n",
            "Test result: 0.4062 1.5940143  &&& Train result: 0.425 1.5293856\n",
            "Test result: 0.4062 1.5939722  &&& Train result: 0.425 1.5292032\n",
            "Test result: 0.4062 1.5939333  &&& Train result: 0.4249 1.5290262\n",
            "Test result: 0.4062 1.5938983  &&& Train result: 0.4251 1.5288551\n",
            "Test result: 0.4073 1.5938662  &&& Train result: 0.4259 1.5286893\n",
            "Test result: 0.4074 1.5938371  &&& Train result: 0.4259 1.5285286\n",
            "Test result: 0.4074 1.5938108  &&& Train result: 0.4259 1.528373\n",
            "Test result: 0.4074 1.5937876  &&& Train result: 0.4259 1.5282221\n",
            "Test result: 0.4074 1.5937665  &&& Train result: 0.4259 1.5280759\n",
            "Test result: 0.4078 1.5937486  &&& Train result: 0.4259 1.5279342\n",
            "Test result: 0.4079 1.5937326  &&& Train result: 0.4259 1.5277966\n",
            "Test result: 0.408 1.5937191  &&& Train result: 0.4259 1.5276634\n",
            "Test result: 0.408 1.593708  &&& Train result: 0.4259 1.527534\n",
            "Test result: 0.408 1.5936985  &&& Train result: 0.426 1.5274084\n",
            "Test result: 0.4079 1.5936915  &&& Train result: 0.426 1.5272868\n",
            "Test result: 0.4076 1.5936865  &&& Train result: 0.425 1.5271685\n",
            "Test result: 0.4076 1.593683  &&& Train result: 0.4249 1.5270538\n",
            "Test result: 0.4077 1.5936817  &&& Train result: 0.4249 1.5269424\n",
            "Test result: 0.4077 1.5936819  &&& Train result: 0.4249 1.5268342\n",
            "Test result: 0.4075 1.5936838  &&& Train result: 0.4249 1.5267293\n",
            "Test result: 0.4073 1.5936873  &&& Train result: 0.4248 1.5266273\n",
            "Test result: 0.4072 1.5936924  &&& Train result: 0.4249 1.5265284\n"
          ],
          "name": "stdout"
        }
      ]
    },
    {
      "cell_type": "code",
      "metadata": {
        "id": "NSdkzHtqehu8",
        "colab_type": "code",
        "colab": {}
      },
      "source": [
        ""
      ],
      "execution_count": 0,
      "outputs": []
    }
  ]
}