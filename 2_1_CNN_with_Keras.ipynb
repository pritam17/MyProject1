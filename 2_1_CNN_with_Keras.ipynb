{
  "nbformat": 4,
  "nbformat_minor": 0,
  "metadata": {
    "kernelspec": {
      "display_name": "Python 3",
      "language": "python",
      "name": "python3"
    },
    "language_info": {
      "codemirror_mode": {
        "name": "ipython",
        "version": 3
      },
      "file_extension": ".py",
      "mimetype": "text/x-python",
      "name": "python",
      "nbconvert_exporter": "python",
      "pygments_lexer": "ipython3",
      "version": "3.6.6"
    },
    "colab": {
      "name": "2.1 CNN with Keras.ipynb",
      "provenance": [],
      "include_colab_link": true
    }
  },
  "cells": [
    {
      "cell_type": "markdown",
      "metadata": {
        "id": "view-in-github",
        "colab_type": "text"
      },
      "source": [
        "<a href=\"https://colab.research.google.com/github/pritam17/MyProject1/blob/master/2_1_CNN_with_Keras.ipynb\" target=\"_parent\"><img src=\"https://colab.research.google.com/assets/colab-badge.svg\" alt=\"Open In Colab\"/></a>"
      ]
    },
    {
      "cell_type": "code",
      "metadata": {
        "id": "OYuA10hEj0sr",
        "colab_type": "code",
        "colab": {
          "base_uri": "https://localhost:8080/",
          "height": 188
        },
        "outputId": "96c13620-5695-4880-8c21-953c14666c3f"
      },
      "source": [
        "!pip install python-mnist"
      ],
      "execution_count": 1,
      "outputs": [
        {
          "output_type": "stream",
          "text": [
            "Collecting python-mnist\n",
            "  Downloading https://files.pythonhosted.org/packages/05/9c/f1c1e4d011b01ac436bba0ac6715b3f988bb7f8fec6f21f89cf820aa33e1/python-mnist-0.6.tar.gz\n",
            "Building wheels for collected packages: python-mnist\n",
            "  Building wheel for python-mnist (setup.py) ... \u001b[?25l\u001b[?25hdone\n",
            "  Created wheel for python-mnist: filename=python_mnist-0.6-py2.py3-none-any.whl size=11662 sha256=620bf3a2fc15409cccc6c2313dd765a6552c9cc4a96d6a08b9c7701bb00e564c\n",
            "  Stored in directory: /root/.cache/pip/wheels/28/29/36/408f83545a511c43d03ef997a1dc99b49ccd5f9f306ed92468\n",
            "Successfully built python-mnist\n",
            "Installing collected packages: python-mnist\n",
            "Successfully installed python-mnist-0.6\n"
          ],
          "name": "stdout"
        }
      ]
    },
    {
      "cell_type": "code",
      "metadata": {
        "id": "01sAztSMkJBK",
        "colab_type": "code",
        "colab": {
          "base_uri": "https://localhost:8080/",
          "height": 608
        },
        "outputId": "b56d8100-3ea6-4ff5-9342-a2c25df52e5d"
      },
      "source": [
        "!wget 'https://www.dropbox.com/s/8smiyrivs3seqzn/mnist_data.zip' /mnist_data.zip\n",
        "!unzip '/content/mnist_data.zip' -d'/content/' "
      ],
      "execution_count": 2,
      "outputs": [
        {
          "output_type": "stream",
          "text": [
            "--2019-12-22 12:24:16--  https://www.dropbox.com/s/8smiyrivs3seqzn/mnist_data.zip\n",
            "Resolving www.dropbox.com (www.dropbox.com)... 162.125.65.1, 2620:100:6021:1::a27d:4101\n",
            "Connecting to www.dropbox.com (www.dropbox.com)|162.125.65.1|:443... connected.\n",
            "HTTP request sent, awaiting response... 301 Moved Permanently\n",
            "Location: /s/raw/8smiyrivs3seqzn/mnist_data.zip [following]\n",
            "--2019-12-22 12:24:17--  https://www.dropbox.com/s/raw/8smiyrivs3seqzn/mnist_data.zip\n",
            "Reusing existing connection to www.dropbox.com:443.\n",
            "HTTP request sent, awaiting response... 302 Found\n",
            "Location: https://ucfba4720b73616c6febfc3041a9.dl.dropboxusercontent.com/cd/0/inline/AutJzv0TFNYbNbInJAI2KvBbzhHrlP3BtCUe-sJonXCBhlDSb4Trsmxw4ZlRXE_PucIYoac6pGSKc_oll4BECKyKDq0_iS1S21wkLP1yZvnyig/file# [following]\n",
            "--2019-12-22 12:24:17--  https://ucfba4720b73616c6febfc3041a9.dl.dropboxusercontent.com/cd/0/inline/AutJzv0TFNYbNbInJAI2KvBbzhHrlP3BtCUe-sJonXCBhlDSb4Trsmxw4ZlRXE_PucIYoac6pGSKc_oll4BECKyKDq0_iS1S21wkLP1yZvnyig/file\n",
            "Resolving ucfba4720b73616c6febfc3041a9.dl.dropboxusercontent.com (ucfba4720b73616c6febfc3041a9.dl.dropboxusercontent.com)... 162.125.65.6, 2620:100:6021:6::a27d:4106\n",
            "Connecting to ucfba4720b73616c6febfc3041a9.dl.dropboxusercontent.com (ucfba4720b73616c6febfc3041a9.dl.dropboxusercontent.com)|162.125.65.6|:443... connected.\n",
            "HTTP request sent, awaiting response... 302 FOUND\n",
            "Location: /cd/0/inline2/AuuFs1K9RwjJgnWUl7Up19syUVxTNTSh_MP33_lQKOQlfv8jNtt4l2iPdXGhew5eCWqjeE6a8DadFFijeqG9Yp3iwcP5wIoD5M9gZlErBNj3ve_ZmEgOxP-YZRJLUiuG-rlndlXqTQf8MFPWRiIRl440l84agXTU_UGcNwg3gcCtsW0PMEKh9xF0OpCA5UnNBmm7s6g26f6QjGetNKqSZMbSW16V1e5d1KNlLOi5iUSHPvzldvvEkS9iDGbWdjCUwZUmftwidWkEOnboZ0Zr9yb9PBTdozWnNIZyy0oz_THtUig3UBDJTc6HFMwBMfK0MKqk7J-5EJcYiE2tBCoozApq/file [following]\n",
            "--2019-12-22 12:24:18--  https://ucfba4720b73616c6febfc3041a9.dl.dropboxusercontent.com/cd/0/inline2/AuuFs1K9RwjJgnWUl7Up19syUVxTNTSh_MP33_lQKOQlfv8jNtt4l2iPdXGhew5eCWqjeE6a8DadFFijeqG9Yp3iwcP5wIoD5M9gZlErBNj3ve_ZmEgOxP-YZRJLUiuG-rlndlXqTQf8MFPWRiIRl440l84agXTU_UGcNwg3gcCtsW0PMEKh9xF0OpCA5UnNBmm7s6g26f6QjGetNKqSZMbSW16V1e5d1KNlLOi5iUSHPvzldvvEkS9iDGbWdjCUwZUmftwidWkEOnboZ0Zr9yb9PBTdozWnNIZyy0oz_THtUig3UBDJTc6HFMwBMfK0MKqk7J-5EJcYiE2tBCoozApq/file\n",
            "Reusing existing connection to ucfba4720b73616c6febfc3041a9.dl.dropboxusercontent.com:443.\n",
            "HTTP request sent, awaiting response... 200 OK\n",
            "Length: 11490497 (11M) [application/zip]\n",
            "Saving to: ‘mnist_data.zip’\n",
            "\n",
            "mnist_data.zip      100%[===================>]  10.96M  5.93MB/s    in 1.8s    \n",
            "\n",
            "2019-12-22 12:24:20 (5.93 MB/s) - ‘mnist_data.zip’ saved [11490497/11490497]\n",
            "\n",
            "/mnist_data.zip: Scheme missing.\n",
            "FINISHED --2019-12-22 12:24:20--\n",
            "Total wall clock time: 3.8s\n",
            "Downloaded: 1 files, 11M in 1.8s (5.93 MB/s)\n",
            "Archive:  /content/mnist_data.zip\n",
            "   creating: /content/mnist_data/\n",
            "  inflating: /content/mnist_data/t10k-images-idx3-ubyte  \n",
            "  inflating: /content/mnist_data/t10k-labels-idx1-ubyte  \n",
            "  inflating: /content/mnist_data/train-images-idx3-ubyte  \n",
            "  inflating: /content/mnist_data/train-labels-idx1-ubyte  \n"
          ],
          "name": "stdout"
        }
      ]
    },
    {
      "cell_type": "code",
      "metadata": {
        "id": "L3ZVTIBej0sv",
        "colab_type": "code",
        "colab": {}
      },
      "source": [
        "import warnings\n",
        "warnings.filterwarnings('ignore')\n",
        "from mnist import MNIST\n",
        "import numpy as np\n",
        "import pandas as pd\n",
        "from sklearn.preprocessing import OneHotEncoder\n",
        "\n",
        "mndata = MNIST(r'/content/mnist_data')\n",
        "images_train, labels_train = mndata.load_training()\n",
        "images_test,labels_test=mndata.load_testing()\n",
        "labels_train=np.array(labels_train).reshape(-1,1)\n",
        "labels_test=np.array(labels_test).reshape(-1,1)\n",
        "\n",
        "\n",
        "onehot=OneHotEncoder()\n",
        "\n",
        "onehot.fit(labels_train)\n",
        "\n",
        "labels_train=onehot.transform(labels_train)\n",
        "labels_test=onehot.transform(labels_test)\n",
        "labels_train=labels_train.toarray()\n",
        "labels_test=labels_test.toarray()\n",
        "\n",
        "images_train=np.array(images_train).reshape(60000,784)/255\n",
        "images_test=np.array(images_test).reshape(10000,784)/255\n",
        "\n",
        "images_train=images_train.reshape(60000,  28, 28,1).astype('float32')\n",
        "images_test=images_test.reshape(10000, 28, 28,1).astype('float32')"
      ],
      "execution_count": 0,
      "outputs": []
    },
    {
      "cell_type": "code",
      "metadata": {
        "id": "N4NTYhUkj0sy",
        "colab_type": "code",
        "colab": {
          "base_uri": "https://localhost:8080/",
          "height": 79
        },
        "outputId": "0d34125a-4b6a-45ce-97bc-ee4c728e00a9"
      },
      "source": [
        "from keras.models import Sequential\n",
        "from keras.layers import Dense\n",
        "from keras.layers import Dropout\n",
        "from keras.layers import Flatten\n",
        "from keras.layers.convolutional import Conv2D\n",
        "from keras.layers.convolutional import MaxPooling2D"
      ],
      "execution_count": 4,
      "outputs": [
        {
          "output_type": "stream",
          "text": [
            "Using TensorFlow backend.\n"
          ],
          "name": "stderr"
        },
        {
          "output_type": "display_data",
          "data": {
            "text/html": [
              "<p style=\"color: red;\">\n",
              "The default version of TensorFlow in Colab will soon switch to TensorFlow 2.x.<br>\n",
              "We recommend you <a href=\"https://www.tensorflow.org/guide/migrate\" target=\"_blank\">upgrade</a> now \n",
              "or ensure your notebook will continue to use TensorFlow 1.x via the <code>%tensorflow_version 1.x</code> magic:\n",
              "<a href=\"https://colab.research.google.com/notebooks/tensorflow_version.ipynb\" target=\"_blank\">more info</a>.</p>\n"
            ],
            "text/plain": [
              "<IPython.core.display.HTML object>"
            ]
          },
          "metadata": {
            "tags": []
          }
        }
      ]
    },
    {
      "cell_type": "code",
      "metadata": {
        "id": "-Vp1SkwQj0s1",
        "colab_type": "code",
        "colab": {
          "base_uri": "https://localhost:8080/",
          "height": 322
        },
        "outputId": "30aa4827-1389-4e49-bcc9-38390eabc4aa"
      },
      "source": [
        "model = Sequential()\n",
        "model.add(Conv2D(32, (5, 5), input_shape=( 28, 28,1), activation='relu',\n",
        "                 padding='same'))\n",
        "model.add(MaxPooling2D(pool_size=(2, 2)))\n",
        "model.add(Conv2D(64, (5, 5),activation='relu',padding='same'))\n",
        "model.add(MaxPooling2D(pool_size=(2, 2)))\n",
        "model.add(Flatten())\n",
        "model.add(Dense(1024, activation='relu'))\n",
        "model.add(Dropout(0.2))\n",
        "model.add(Dense(200, activation='relu'))\n",
        "model.add(Dropout(0.2))\n",
        "model.add(Dense(10, activation='softmax'))\n",
        "# Compile model\n",
        "model.compile(loss='categorical_crossentropy', optimizer='adam', \n",
        "              metrics=['accuracy'])"
      ],
      "execution_count": 5,
      "outputs": [
        {
          "output_type": "stream",
          "text": [
            "WARNING:tensorflow:From /usr/local/lib/python3.6/dist-packages/keras/backend/tensorflow_backend.py:66: The name tf.get_default_graph is deprecated. Please use tf.compat.v1.get_default_graph instead.\n",
            "\n",
            "WARNING:tensorflow:From /usr/local/lib/python3.6/dist-packages/keras/backend/tensorflow_backend.py:541: The name tf.placeholder is deprecated. Please use tf.compat.v1.placeholder instead.\n",
            "\n",
            "WARNING:tensorflow:From /usr/local/lib/python3.6/dist-packages/keras/backend/tensorflow_backend.py:4432: The name tf.random_uniform is deprecated. Please use tf.random.uniform instead.\n",
            "\n",
            "WARNING:tensorflow:From /usr/local/lib/python3.6/dist-packages/keras/backend/tensorflow_backend.py:4267: The name tf.nn.max_pool is deprecated. Please use tf.nn.max_pool2d instead.\n",
            "\n",
            "WARNING:tensorflow:From /usr/local/lib/python3.6/dist-packages/keras/backend/tensorflow_backend.py:148: The name tf.placeholder_with_default is deprecated. Please use tf.compat.v1.placeholder_with_default instead.\n",
            "\n",
            "WARNING:tensorflow:From /usr/local/lib/python3.6/dist-packages/keras/backend/tensorflow_backend.py:3733: calling dropout (from tensorflow.python.ops.nn_ops) with keep_prob is deprecated and will be removed in a future version.\n",
            "Instructions for updating:\n",
            "Please use `rate` instead of `keep_prob`. Rate should be set to `rate = 1 - keep_prob`.\n",
            "WARNING:tensorflow:From /usr/local/lib/python3.6/dist-packages/keras/optimizers.py:793: The name tf.train.Optimizer is deprecated. Please use tf.compat.v1.train.Optimizer instead.\n",
            "\n",
            "WARNING:tensorflow:From /usr/local/lib/python3.6/dist-packages/keras/backend/tensorflow_backend.py:3576: The name tf.log is deprecated. Please use tf.math.log instead.\n",
            "\n"
          ],
          "name": "stdout"
        }
      ]
    },
    {
      "cell_type": "code",
      "metadata": {
        "id": "1B6JAU4pj0s4",
        "colab_type": "code",
        "colab": {
          "base_uri": "https://localhost:8080/",
          "height": 487
        },
        "outputId": "4be1338d-3c80-4dcc-f681-392f7c9bb748"
      },
      "source": [
        "model.summary()"
      ],
      "execution_count": 6,
      "outputs": [
        {
          "output_type": "stream",
          "text": [
            "Model: \"sequential_1\"\n",
            "_________________________________________________________________\n",
            "Layer (type)                 Output Shape              Param #   \n",
            "=================================================================\n",
            "conv2d_1 (Conv2D)            (None, 28, 28, 32)        832       \n",
            "_________________________________________________________________\n",
            "max_pooling2d_1 (MaxPooling2 (None, 14, 14, 32)        0         \n",
            "_________________________________________________________________\n",
            "conv2d_2 (Conv2D)            (None, 14, 14, 64)        51264     \n",
            "_________________________________________________________________\n",
            "max_pooling2d_2 (MaxPooling2 (None, 7, 7, 64)          0         \n",
            "_________________________________________________________________\n",
            "flatten_1 (Flatten)          (None, 3136)              0         \n",
            "_________________________________________________________________\n",
            "dense_1 (Dense)              (None, 1024)              3212288   \n",
            "_________________________________________________________________\n",
            "dropout_1 (Dropout)          (None, 1024)              0         \n",
            "_________________________________________________________________\n",
            "dense_2 (Dense)              (None, 200)               205000    \n",
            "_________________________________________________________________\n",
            "dropout_2 (Dropout)          (None, 200)               0         \n",
            "_________________________________________________________________\n",
            "dense_3 (Dense)              (None, 10)                2010      \n",
            "=================================================================\n",
            "Total params: 3,471,394\n",
            "Trainable params: 3,471,394\n",
            "Non-trainable params: 0\n",
            "_________________________________________________________________\n"
          ],
          "name": "stdout"
        }
      ]
    },
    {
      "cell_type": "code",
      "metadata": {
        "id": "t0hs26zlj0s7",
        "colab_type": "code",
        "colab": {
          "base_uri": "https://localhost:8080/",
          "height": 440
        },
        "outputId": "11120ba8-8f28-45bd-ca07-d5e9fcb9af9b"
      },
      "source": [
        "model.fit(images_train, labels_train, validation_data=(images_test, labels_test),\n",
        "          epochs=5, batch_size=50, verbose=1)"
      ],
      "execution_count": 0,
      "outputs": [
        {
          "output_type": "stream",
          "text": [
            "WARNING:tensorflow:From /usr/local/lib/python3.6/dist-packages/tensorflow_core/python/ops/math_grad.py:1424: where (from tensorflow.python.ops.array_ops) is deprecated and will be removed in a future version.\n",
            "Instructions for updating:\n",
            "Use tf.where in 2.0, which has the same broadcast rule as np.where\n",
            "WARNING:tensorflow:From /usr/local/lib/python3.6/dist-packages/keras/backend/tensorflow_backend.py:1033: The name tf.assign_add is deprecated. Please use tf.compat.v1.assign_add instead.\n",
            "\n",
            "WARNING:tensorflow:From /usr/local/lib/python3.6/dist-packages/keras/backend/tensorflow_backend.py:1020: The name tf.assign is deprecated. Please use tf.compat.v1.assign instead.\n",
            "\n",
            "WARNING:tensorflow:From /usr/local/lib/python3.6/dist-packages/keras/backend/tensorflow_backend.py:3005: The name tf.Session is deprecated. Please use tf.compat.v1.Session instead.\n",
            "\n",
            "Train on 60000 samples, validate on 10000 samples\n",
            "Epoch 1/5\n",
            "WARNING:tensorflow:From /usr/local/lib/python3.6/dist-packages/keras/backend/tensorflow_backend.py:190: The name tf.get_default_session is deprecated. Please use tf.compat.v1.get_default_session instead.\n",
            "\n",
            "WARNING:tensorflow:From /usr/local/lib/python3.6/dist-packages/keras/backend/tensorflow_backend.py:197: The name tf.ConfigProto is deprecated. Please use tf.compat.v1.ConfigProto instead.\n",
            "\n",
            "WARNING:tensorflow:From /usr/local/lib/python3.6/dist-packages/keras/backend/tensorflow_backend.py:207: The name tf.global_variables is deprecated. Please use tf.compat.v1.global_variables instead.\n",
            "\n",
            "WARNING:tensorflow:From /usr/local/lib/python3.6/dist-packages/keras/backend/tensorflow_backend.py:216: The name tf.is_variable_initialized is deprecated. Please use tf.compat.v1.is_variable_initialized instead.\n",
            "\n",
            "WARNING:tensorflow:From /usr/local/lib/python3.6/dist-packages/keras/backend/tensorflow_backend.py:223: The name tf.variables_initializer is deprecated. Please use tf.compat.v1.variables_initializer instead.\n",
            "\n",
            "60000/60000 [==============================] - 209s 3ms/step - loss: 0.1220 - acc: 0.9618 - val_loss: 0.0380 - val_acc: 0.9875\n",
            "Epoch 2/5\n",
            " 4450/60000 [=>............................] - ETA: 3:06 - loss: 0.0394 - acc: 0.9892"
          ],
          "name": "stdout"
        }
      ]
    },
    {
      "cell_type": "code",
      "metadata": {
        "id": "YwWUEc3Kj0s-",
        "colab_type": "code",
        "colab": {}
      },
      "source": [
        "p=model.predict(images_test)"
      ],
      "execution_count": 0,
      "outputs": []
    },
    {
      "cell_type": "code",
      "metadata": {
        "id": "boj3oTQgj0tB",
        "colab_type": "code",
        "colab": {},
        "outputId": "7c1b403e-1a10-4150-e403-cc5364bf3540"
      },
      "source": [
        "p"
      ],
      "execution_count": 0,
      "outputs": [
        {
          "output_type": "execute_result",
          "data": {
            "text/plain": [
              "array([[7.1266188e-14, 9.0066461e-09, 6.0849441e-09, ..., 9.9999976e-01,\n",
              "        1.0092087e-11, 2.9585541e-07],\n",
              "       [8.1327549e-11, 5.3384612e-09, 1.0000000e+00, ..., 3.2053102e-10,\n",
              "        6.6881667e-10, 2.4337574e-12],\n",
              "       [2.0640982e-11, 1.0000000e+00, 5.8407146e-10, ..., 2.1684514e-08,\n",
              "        3.0032596e-09, 8.5673538e-11],\n",
              "       ...,\n",
              "       [1.1291619e-14, 2.0239455e-09, 8.0500606e-12, ..., 1.8121725e-11,\n",
              "        3.5110286e-11, 1.2329803e-08],\n",
              "       [3.8222703e-11, 7.8944178e-11, 1.4534000e-13, ..., 1.2582323e-10,\n",
              "        1.2682664e-08, 3.5410521e-09],\n",
              "       [5.0955111e-09, 4.5975970e-11, 2.8759467e-10, ..., 1.6172493e-14,\n",
              "        1.5176297e-09, 1.1159207e-12]], dtype=float32)"
            ]
          },
          "metadata": {
            "tags": []
          },
          "execution_count": 7
        }
      ]
    },
    {
      "cell_type": "code",
      "metadata": {
        "id": "OLrHAM9qj0tD",
        "colab_type": "code",
        "colab": {}
      },
      "source": [
        "labels_test_predicted=np.argmax(p,1)"
      ],
      "execution_count": 0,
      "outputs": []
    },
    {
      "cell_type": "code",
      "metadata": {
        "id": "otr8o1S_j0tG",
        "colab_type": "code",
        "colab": {},
        "outputId": "0864565a-e164-4631-9101-426bd990dc45"
      },
      "source": [
        "labels_test_predicted"
      ],
      "execution_count": 0,
      "outputs": [
        {
          "output_type": "execute_result",
          "data": {
            "text/plain": [
              "array([7, 2, 1, ..., 4, 5, 6])"
            ]
          },
          "metadata": {
            "tags": []
          },
          "execution_count": 9
        }
      ]
    },
    {
      "cell_type": "code",
      "metadata": {
        "id": "ivdqt3OCj0tJ",
        "colab_type": "code",
        "colab": {},
        "outputId": "64799edb-d76a-44b7-830c-b2a915619353"
      },
      "source": [
        "# first argument to pd.crosstab goes to rows, second to columns\n",
        "# row_0 : real labels\n",
        "# col_0 : predicted labels\n",
        "pd.crosstab(np.argmax(labels_test,axis=1),labels_test_predicted)"
      ],
      "execution_count": 0,
      "outputs": [
        {
          "output_type": "execute_result",
          "data": {
            "text/html": [
              "<div>\n",
              "<style scoped>\n",
              "    .dataframe tbody tr th:only-of-type {\n",
              "        vertical-align: middle;\n",
              "    }\n",
              "\n",
              "    .dataframe tbody tr th {\n",
              "        vertical-align: top;\n",
              "    }\n",
              "\n",
              "    .dataframe thead th {\n",
              "        text-align: right;\n",
              "    }\n",
              "</style>\n",
              "<table border=\"1\" class=\"dataframe\">\n",
              "  <thead>\n",
              "    <tr style=\"text-align: right;\">\n",
              "      <th>col_0</th>\n",
              "      <th>0</th>\n",
              "      <th>1</th>\n",
              "      <th>2</th>\n",
              "      <th>3</th>\n",
              "      <th>4</th>\n",
              "      <th>5</th>\n",
              "      <th>6</th>\n",
              "      <th>7</th>\n",
              "      <th>8</th>\n",
              "      <th>9</th>\n",
              "    </tr>\n",
              "    <tr>\n",
              "      <th>row_0</th>\n",
              "      <th></th>\n",
              "      <th></th>\n",
              "      <th></th>\n",
              "      <th></th>\n",
              "      <th></th>\n",
              "      <th></th>\n",
              "      <th></th>\n",
              "      <th></th>\n",
              "      <th></th>\n",
              "      <th></th>\n",
              "    </tr>\n",
              "  </thead>\n",
              "  <tbody>\n",
              "    <tr>\n",
              "      <th>0</th>\n",
              "      <td>977</td>\n",
              "      <td>0</td>\n",
              "      <td>0</td>\n",
              "      <td>0</td>\n",
              "      <td>0</td>\n",
              "      <td>0</td>\n",
              "      <td>1</td>\n",
              "      <td>1</td>\n",
              "      <td>0</td>\n",
              "      <td>1</td>\n",
              "    </tr>\n",
              "    <tr>\n",
              "      <th>1</th>\n",
              "      <td>1</td>\n",
              "      <td>1129</td>\n",
              "      <td>0</td>\n",
              "      <td>4</td>\n",
              "      <td>0</td>\n",
              "      <td>0</td>\n",
              "      <td>1</td>\n",
              "      <td>0</td>\n",
              "      <td>0</td>\n",
              "      <td>0</td>\n",
              "    </tr>\n",
              "    <tr>\n",
              "      <th>2</th>\n",
              "      <td>1</td>\n",
              "      <td>1</td>\n",
              "      <td>1027</td>\n",
              "      <td>1</td>\n",
              "      <td>0</td>\n",
              "      <td>0</td>\n",
              "      <td>0</td>\n",
              "      <td>2</td>\n",
              "      <td>0</td>\n",
              "      <td>0</td>\n",
              "    </tr>\n",
              "    <tr>\n",
              "      <th>3</th>\n",
              "      <td>0</td>\n",
              "      <td>0</td>\n",
              "      <td>0</td>\n",
              "      <td>1010</td>\n",
              "      <td>0</td>\n",
              "      <td>0</td>\n",
              "      <td>0</td>\n",
              "      <td>0</td>\n",
              "      <td>0</td>\n",
              "      <td>0</td>\n",
              "    </tr>\n",
              "    <tr>\n",
              "      <th>4</th>\n",
              "      <td>0</td>\n",
              "      <td>3</td>\n",
              "      <td>1</td>\n",
              "      <td>0</td>\n",
              "      <td>961</td>\n",
              "      <td>0</td>\n",
              "      <td>3</td>\n",
              "      <td>1</td>\n",
              "      <td>1</td>\n",
              "      <td>12</td>\n",
              "    </tr>\n",
              "    <tr>\n",
              "      <th>5</th>\n",
              "      <td>0</td>\n",
              "      <td>0</td>\n",
              "      <td>0</td>\n",
              "      <td>16</td>\n",
              "      <td>0</td>\n",
              "      <td>869</td>\n",
              "      <td>5</td>\n",
              "      <td>1</td>\n",
              "      <td>0</td>\n",
              "      <td>1</td>\n",
              "    </tr>\n",
              "    <tr>\n",
              "      <th>6</th>\n",
              "      <td>1</td>\n",
              "      <td>2</td>\n",
              "      <td>0</td>\n",
              "      <td>0</td>\n",
              "      <td>0</td>\n",
              "      <td>0</td>\n",
              "      <td>954</td>\n",
              "      <td>0</td>\n",
              "      <td>1</td>\n",
              "      <td>0</td>\n",
              "    </tr>\n",
              "    <tr>\n",
              "      <th>7</th>\n",
              "      <td>0</td>\n",
              "      <td>1</td>\n",
              "      <td>7</td>\n",
              "      <td>0</td>\n",
              "      <td>0</td>\n",
              "      <td>0</td>\n",
              "      <td>0</td>\n",
              "      <td>1019</td>\n",
              "      <td>0</td>\n",
              "      <td>1</td>\n",
              "    </tr>\n",
              "    <tr>\n",
              "      <th>8</th>\n",
              "      <td>3</td>\n",
              "      <td>0</td>\n",
              "      <td>2</td>\n",
              "      <td>2</td>\n",
              "      <td>0</td>\n",
              "      <td>1</td>\n",
              "      <td>0</td>\n",
              "      <td>0</td>\n",
              "      <td>966</td>\n",
              "      <td>0</td>\n",
              "    </tr>\n",
              "    <tr>\n",
              "      <th>9</th>\n",
              "      <td>0</td>\n",
              "      <td>0</td>\n",
              "      <td>0</td>\n",
              "      <td>5</td>\n",
              "      <td>3</td>\n",
              "      <td>1</td>\n",
              "      <td>0</td>\n",
              "      <td>2</td>\n",
              "      <td>6</td>\n",
              "      <td>992</td>\n",
              "    </tr>\n",
              "  </tbody>\n",
              "</table>\n",
              "</div>"
            ],
            "text/plain": [
              "col_0    0     1     2     3    4    5    6     7    8    9\n",
              "row_0                                                      \n",
              "0      977     0     0     0    0    0    1     1    0    1\n",
              "1        1  1129     0     4    0    0    1     0    0    0\n",
              "2        1     1  1027     1    0    0    0     2    0    0\n",
              "3        0     0     0  1010    0    0    0     0    0    0\n",
              "4        0     3     1     0  961    0    3     1    1   12\n",
              "5        0     0     0    16    0  869    5     1    0    1\n",
              "6        1     2     0     0    0    0  954     0    1    0\n",
              "7        0     1     7     0    0    0    0  1019    0    1\n",
              "8        3     0     2     2    0    1    0     0  966    0\n",
              "9        0     0     0     5    3    1    0     2    6  992"
            ]
          },
          "metadata": {
            "tags": []
          },
          "execution_count": 10
        }
      ]
    },
    {
      "cell_type": "code",
      "metadata": {
        "id": "6OE2USeoj0tM",
        "colab_type": "code",
        "colab": {}
      },
      "source": [
        ""
      ],
      "execution_count": 0,
      "outputs": []
    }
  ]
}